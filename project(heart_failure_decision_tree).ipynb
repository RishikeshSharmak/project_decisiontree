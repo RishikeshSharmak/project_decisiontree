{
  "nbformat": 4,
  "nbformat_minor": 0,
  "metadata": {
    "colab": {
      "name": "project(heart_failure_decision_tree).ipynb",
      "private_outputs": true,
      "provenance": [],
      "authorship_tag": "ABX9TyP5mln0abtusP1gHjo59GJF",
      "include_colab_link": true
    },
    "kernelspec": {
      "name": "python3",
      "display_name": "Python 3"
    },
    "language_info": {
      "name": "python"
    }
  },
  "cells": [
    {
      "cell_type": "markdown",
      "metadata": {
        "id": "view-in-github",
        "colab_type": "text"
      },
      "source": [
        "<a href=\"https://colab.research.google.com/github/RishikeshSharmak/project_decisiontree/blob/main/project(heart_failure_decision_tree).ipynb\" target=\"_parent\"><img src=\"https://colab.research.google.com/assets/colab-badge.svg\" alt=\"Open In Colab\"/></a>"
      ]
    },
    {
      "cell_type": "code",
      "execution_count": null,
      "metadata": {
        "id": "9CYMv9Eb5pQZ"
      },
      "outputs": [],
      "source": [
        "import numpy as np # linear algebra\n",
        "import pandas as pd # data processing, CSV file I/O (e.g. pd.read_csv)\n",
        "\n",
        "# Input data files are available in the read-only \"../input/\" directory\n",
        "# For example, running this (by clicking run or pressing Shift+Enter) will list all files under the input directory\n",
        "\n",
        "import os\n",
        "for dirname, _, filenames in os.walk('/kaggle/input'):\n",
        "    for filename in filenames:\n",
        "        print(os.path.join(dirname, filename))"
      ]
    },
    {
      "cell_type": "code",
      "source": [
        "from matplotlib import pyplot as plt\n",
        "from sklearn import preprocessing\n",
        "from sklearn.preprocessing import LabelEncoder\n",
        "from sklearn.model_selection import train_test_split\n",
        "from sklearn import tree\n",
        "from sklearn.tree import DecisionTreeClassifier\n",
        "from sklearn import metrics\n",
        "import graphviz"
      ],
      "metadata": {
        "id": "fNcpvIcW6vpx"
      },
      "execution_count": null,
      "outputs": []
    },
    {
      "cell_type": "code",
      "source": [
        "data = pd.read_csv('heart.csv')\n",
        "data.head()"
      ],
      "metadata": {
        "id": "24q7ToEz6ylf"
      },
      "execution_count": null,
      "outputs": []
    },
    {
      "cell_type": "code",
      "source": [
        "data.info()"
      ],
      "metadata": {
        "id": "3AjhHEsS66zB"
      },
      "execution_count": null,
      "outputs": []
    },
    {
      "cell_type": "code",
      "source": [
        "data.isnull().sum()"
      ],
      "metadata": {
        "id": "vx-j0JTJ7APo"
      },
      "execution_count": null,
      "outputs": []
    },
    {
      "cell_type": "code",
      "source": [
        "non_numerical_data = ['Sex','ChestPainType','RestingECG','ExerciseAngina','ST_Slope']\n",
        "for col in non_numerical_data:\n",
        "    print(col, \": \\n\\n\", data[col].unique())"
      ],
      "metadata": {
        "id": "-VJPELgS7Dik"
      },
      "execution_count": null,
      "outputs": []
    },
    {
      "cell_type": "code",
      "source": [
        "data.duplicated().sum()"
      ],
      "metadata": {
        "id": "xiA3Z5aC7HtF"
      },
      "execution_count": null,
      "outputs": []
    },
    {
      "cell_type": "code",
      "source": [
        "encoder = LabelEncoder()\n",
        "new_data = data.copy()\n",
        "for col in non_numerical_data:\n",
        "    new_data[col] = encoder.fit_transform(data[col])\n",
        "new_data.head()"
      ],
      "metadata": {
        "id": "Byt0s8-87Jvf"
      },
      "execution_count": null,
      "outputs": []
    },
    {
      "cell_type": "code",
      "source": [
        "X = new_data.drop(labels = ['HeartDisease'], axis = 1)\n",
        "X.head()"
      ],
      "metadata": {
        "id": "a0VtwXWh7NG6"
      },
      "execution_count": null,
      "outputs": []
    },
    {
      "cell_type": "code",
      "source": [
        "y = new_data['HeartDisease']\n",
        "y.head()"
      ],
      "metadata": {
        "id": "C8GrfyHt7QKL"
      },
      "execution_count": null,
      "outputs": []
    },
    {
      "cell_type": "code",
      "source": [
        "x_train, x_test, y_train, y_test = train_test_split(X, y, test_size = 0.3, random_state = 0)\n",
        "print('Train Size: \\n', x_train.shape)\n",
        "print('Test Size: \\n', x_test.shape)"
      ],
      "metadata": {
        "id": "ymMJWJbh7THT"
      },
      "execution_count": null,
      "outputs": []
    },
    {
      "cell_type": "code",
      "source": [
        "dtc = DecisionTreeClassifier(criterion = 'entropy')\n",
        "model = dtc.fit(x_train, y_train)"
      ],
      "metadata": {
        "id": "PTBWlF6n7WQi"
      },
      "execution_count": null,
      "outputs": []
    },
    {
      "cell_type": "code",
      "source": [
        "prediction = dtc.predict(x_test)\n",
        "print('Accuracy: ', metrics.accuracy_score(y_test, prediction))"
      ],
      "metadata": {
        "id": "zHt0SsFU7Ym3"
      },
      "execution_count": null,
      "outputs": []
    },
    {
      "cell_type": "code",
      "source": [
        "metrics.confusion_matrix(y_test, prediction)"
      ],
      "metadata": {
        "id": "Vrku59y67a_G"
      },
      "execution_count": null,
      "outputs": []
    },
    {
      "cell_type": "markdown",
      "source": [
        "visualize tree"
      ],
      "metadata": {
        "id": "0GOKDZeV7d9a"
      }
    },
    {
      "cell_type": "code",
      "source": [
        "dot_data = tree.export_graphviz(dtc,filled=True)\n",
        "graph = graphviz.Source(dot_data, format=\"png\") \n",
        "graph"
      ],
      "metadata": {
        "id": "JUlQZl0q7khy"
      },
      "execution_count": null,
      "outputs": []
    }
  ]
}